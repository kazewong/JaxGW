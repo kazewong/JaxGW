{
 "cells": [
  {
   "cell_type": "markdown",
   "metadata": {},
   "source": [
    "## Import Necessary Modules"
   ]
  },
  {
   "cell_type": "code",
   "execution_count": null,
   "metadata": {},
   "outputs": [],
   "source": [
    "import time\n",
    "\n",
    "import jax\n",
    "import jax.numpy as jnp\n",
    "\n",
    "from jimgw.jim import Jim\n",
    "from jimgw.prior import CombinePrior, UniformPrior, CosinePrior, SinePrior, PowerLawPrior\n",
    "from jimgw.single_event.detector import H1, L1\n",
    "from jimgw.single_event.likelihood import TransientLikelihoodFD\n",
    "from jimgw.single_event.waveform import RippleIMRPhenomPv2\n",
    "from jimgw.transforms import BoundToUnbound\n",
    "from jimgw.single_event.transforms import MassRatioToSymmetricMassRatioTransform, SpinToCartesianSpinTransform, ComponentMassesToChirpMassMassRatioTransform, SkyFrameToDetectorFrameSkyPositionTransform\n",
    "from jimgw.single_event.utils import Mc_q_to_m1_m2\n",
    "from flowMC.strategy.optimization import optimization_Adam\n",
    "\n",
    "jax.config.update(\"jax_enable_x64\", True)\n",
    "\n",
    "total_time_start = time.time()"
   ]
  },
  {
   "cell_type": "markdown",
   "metadata": {},
   "source": [
    "## Fetch the detector data\n",
    "We first fetch the 4s segment detector data centered on GW150914. "
   ]
  },
  {
   "cell_type": "code",
   "execution_count": null,
   "metadata": {},
   "outputs": [],
   "source": [
    "gps = 1126259462.4\n",
    "duration = 4\n",
    "post_trigger_duration = 2\n",
    "start_pad = duration - post_trigger_duration\n",
    "end_pad = post_trigger_duration\n",
    "fmin = 20.0\n",
    "fmax = 1024.0\n",
    "\n",
    "ifos = [H1, L1]\n",
    "\n",
    "f_ref = 20.0\n",
    "\n",
    "for ifo in ifos:\n",
    "    ifo.load_data(gps, start_pad, end_pad, fmin, fmax, psd_pad=16, tukey_alpha=0.2)"
   ]
  },
  {
   "cell_type": "markdown",
   "metadata": {},
   "source": [
    "## Set up Prior\n",
    "Prior is the prior knowledge you have on the probability distribution of the event parameters $\\theta_{prior}$. There is a few prior classes available: UniformPrior,..."
   ]
  },
  {
   "cell_type": "code",
   "execution_count": null,
   "metadata": {},
   "outputs": [],
   "source": [
    "M_c_min, M_c_max = 10.0, 80.0\n",
    "q_min, q_max = 0.125, 1.0\n",
    "m_1_prior = UniformPrior(Mc_q_to_m1_m2(M_c_min, q_max)[0], Mc_q_to_m1_m2(M_c_max, q_min)[0], parameter_names=[\"m_1\"])\n",
    "m_2_prior = UniformPrior(Mc_q_to_m1_m2(M_c_min, q_min)[1], Mc_q_to_m1_m2(M_c_max, q_max)[1], parameter_names=[\"m_2\"])\n",
    "theta_jn_prior = SinePrior(parameter_names=[\"theta_jn\"])\n",
    "phi_jl_prior = UniformPrior(0.0, 2 * jnp.pi, parameter_names=[\"phi_jl\"])\n",
    "theta_1_prior = SinePrior(parameter_names=[\"theta_1\"])\n",
    "theta_2_prior = SinePrior(parameter_names=[\"theta_2\"])\n",
    "phi_12_prior = UniformPrior(0.0, 2 * jnp.pi, parameter_names=[\"phi_12\"])\n",
    "a_1_prior = UniformPrior(0.0, 1.0, parameter_names=[\"a_1\"])\n",
    "a_2_prior = UniformPrior(0.0, 1.0, parameter_names=[\"a_2\"])\n",
    "dL_prior = PowerLawPrior(10.0, 2000.0, 2.0, parameter_names=[\"d_L\"])\n",
    "t_c_prior = UniformPrior(-0.05, 0.05, parameter_names=[\"t_c\"])\n",
    "phase_c_prior = UniformPrior(0.0, 2 * jnp.pi, parameter_names=[\"phase_c\"])\n",
    "psi_prior = UniformPrior(0.0, jnp.pi, parameter_names=[\"psi\"])\n",
    "ra_prior = UniformPrior(0.0, 2 * jnp.pi, parameter_names=[\"ra\"])\n",
    "dec_prior = CosinePrior(parameter_names=[\"dec\"])\n",
    "\n",
    "prior = CombinePrior(\n",
    "    [\n",
    "        m_1_prior,\n",
    "        m_2_prior,\n",
    "        theta_jn_prior,\n",
    "        phi_jl_prior,\n",
    "        theta_1_prior,\n",
    "        theta_2_prior,\n",
    "        phi_12_prior,\n",
    "        a_1_prior,\n",
    "        a_2_prior,\n",
    "        dL_prior,\n",
    "        t_c_prior,\n",
    "        phase_c_prior,\n",
    "        psi_prior,\n",
    "        ra_prior,\n",
    "        dec_prior,\n",
    "    ]\n",
    ")"
   ]
  },
  {
   "cell_type": "markdown",
   "metadata": {},
   "source": [
    "## Set up Sample Transform\n",
    "Sometimes the same event can be described by multiple different set of event parameters, and it exists some transform that transform from one set of parameters to another set of parameters. Suppose we want to define prior on one set of event parameters $\\theta_1$, but sample on another set of event parameters $\\theta_2$, sample transform becomes useful. "
   ]
  },
  {
   "cell_type": "code",
   "execution_count": null,
   "metadata": {},
   "outputs": [],
   "source": [
    "sample_transforms = [\n",
    "    ComponentMassesToChirpMassMassRatioTransform(name_mapping=[[\"m_1\", \"m_2\"], [\"M_c\", \"q\"]]),\n",
    "    BoundToUnbound(name_mapping = [[\"M_c\"], [\"M_c_unbounded\"]], original_lower_bound=10.0, original_upper_bound=80.0),\n",
    "    BoundToUnbound(name_mapping = [[\"q\"], [\"q_unbounded\"]], original_lower_bound=0.125, original_upper_bound=1.),\n",
    "    BoundToUnbound(name_mapping = [[\"theta_jn\"], [\"theta_jn_unbounded\"]] , original_lower_bound=0.0, original_upper_bound=jnp.pi),\n",
    "    BoundToUnbound(name_mapping = [[\"phi_jl\"], [\"phi_jl_unbounded\"]] , original_lower_bound=0.0, original_upper_bound=2 * jnp.pi),\n",
    "    BoundToUnbound(name_mapping = [[\"theta_1\"], [\"theta_1_unbounded\"]] , original_lower_bound=0.0, original_upper_bound=jnp.pi),\n",
    "    BoundToUnbound(name_mapping = [[\"theta_2\"], [\"theta_2_unbounded\"]] , original_lower_bound=0.0, original_upper_bound=jnp.pi),\n",
    "    BoundToUnbound(name_mapping = [[\"phi_12\"], [\"phi_12_unbounded\"]] , original_lower_bound=0.0, original_upper_bound=2 * jnp.pi),\n",
    "    BoundToUnbound(name_mapping = [[\"a_1\"], [\"a_1_unbounded\"]] , original_lower_bound=0.0, original_upper_bound=1.0),\n",
    "    BoundToUnbound(name_mapping = [[\"a_2\"], [\"a_2_unbounded\"]] , original_lower_bound=0.0, original_upper_bound=1.0),\n",
    "    BoundToUnbound(name_mapping = [[\"d_L\"], [\"d_L_unbounded\"]] , original_lower_bound=10.0, original_upper_bound=2000.0),\n",
    "    BoundToUnbound(name_mapping = [[\"t_c\"], [\"t_c_unbounded\"]] , original_lower_bound=-0.05, original_upper_bound=0.05),\n",
    "    BoundToUnbound(name_mapping = [[\"phase_c\"], [\"phase_c_unbounded\"]] , original_lower_bound=0.0, original_upper_bound=2 * jnp.pi),\n",
    "    BoundToUnbound(name_mapping = [[\"psi\"], [\"psi_unbounded\"]], original_lower_bound=0.0, original_upper_bound=jnp.pi),\n",
    "    SkyFrameToDetectorFrameSkyPositionTransform(name_mapping = [[\"ra\", \"dec\"], [\"zenith\", \"azimuth\"]], gps_time=gps, ifos=ifos),\n",
    "    BoundToUnbound(name_mapping = [[\"zenith\"], [\"zenith_unbounded\"]], original_lower_bound=0.0, original_upper_bound=jnp.pi),\n",
    "    BoundToUnbound(name_mapping = [[\"azimuth\"], [\"azimuth_unbounded\"]], original_lower_bound=0.0, original_upper_bound=2 * jnp.pi),\n",
    "]"
   ]
  },
  {
   "cell_type": "markdown",
   "metadata": {},
   "source": [
    "## Set up Likelihood Transform\n",
    "To make the issue even more complicated, sometimes the model could takes another set of parameters. Therefore, we would define likelihood transforms that transform $\\theta_2$ into $\\theta_3$."
   ]
  },
  {
   "cell_type": "code",
   "execution_count": null,
   "metadata": {},
   "outputs": [],
   "source": [
    "likelihood_transforms = [\n",
    "    ComponentMassesToChirpMassMassRatioTransform(name_mapping=[[\"m_1\", \"m_2\"], [\"M_c\", \"q\"]]),\n",
    "    SpinToCartesianSpinTransform(name_mapping=[[\"theta_jn\", \"phi_jl\", \"theta_1\", \"theta_2\", \"phi_12\", \"a_1\", \"a_2\"], [\"iota\", \"s1_x\", \"s1_y\", \"s1_z\", \"s2_x\", \"s2_y\", \"s2_z\"]], freq_ref=f_ref),\n",
    "    MassRatioToSymmetricMassRatioTransform(name_mapping=[[\"q\"], [\"eta\"]]),\n",
    "]"
   ]
  }
 ],
 "metadata": {
  "language_info": {
   "name": "python"
  }
 },
 "nbformat": 4,
 "nbformat_minor": 2
}
